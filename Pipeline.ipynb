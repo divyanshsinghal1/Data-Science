{
 "cells": [
  {
   "cell_type": "code",
   "execution_count": 1,
   "id": "4e14b5ad",
   "metadata": {},
   "outputs": [],
   "source": [
    "from sklearn.pipeline import Pipeline\n",
    "##feature Scaling\n",
    "from sklearn.preprocessing import StandardScaler\n",
    "from sklearn.linear_model import LogisticRegression"
   ]
  },
  {
   "cell_type": "code",
   "execution_count": 2,
   "id": "ae0152b8",
   "metadata": {},
   "outputs": [],
   "source": [
    "##visualize Pipeline\n",
    "from sklearn import set_config"
   ]
  },
  {
   "cell_type": "code",
   "execution_count": 3,
   "id": "bfe65652",
   "metadata": {},
   "outputs": [],
   "source": [
    "set_config(display=\"diagram\")"
   ]
  },
  {
   "cell_type": "code",
   "execution_count": 4,
   "id": "8ec2dd92",
   "metadata": {},
   "outputs": [
    {
     "data": {
      "text/plain": [
       "[('standard_scaler', StandardScaler()), ('classifier', LogisticRegression())]"
      ]
     },
     "execution_count": 4,
     "metadata": {},
     "output_type": "execute_result"
    }
   ],
   "source": [
    "steps=[(\"standard_scaler\",StandardScaler()),\n",
    "      (\"classifier\",LogisticRegression())]\n",
    "steps"
   ]
  },
  {
   "cell_type": "code",
   "execution_count": 5,
   "id": "feffa906",
   "metadata": {},
   "outputs": [
    {
     "data": {
      "text/html": [
       "<style>#sk-cb82164c-6aa3-40b4-95c0-5023d22d04b9 {color: black;background-color: white;}#sk-cb82164c-6aa3-40b4-95c0-5023d22d04b9 pre{padding: 0;}#sk-cb82164c-6aa3-40b4-95c0-5023d22d04b9 div.sk-toggleable {background-color: white;}#sk-cb82164c-6aa3-40b4-95c0-5023d22d04b9 label.sk-toggleable__label {cursor: pointer;display: block;width: 100%;margin-bottom: 0;padding: 0.3em;box-sizing: border-box;text-align: center;}#sk-cb82164c-6aa3-40b4-95c0-5023d22d04b9 label.sk-toggleable__label-arrow:before {content: \"▸\";float: left;margin-right: 0.25em;color: #696969;}#sk-cb82164c-6aa3-40b4-95c0-5023d22d04b9 label.sk-toggleable__label-arrow:hover:before {color: black;}#sk-cb82164c-6aa3-40b4-95c0-5023d22d04b9 div.sk-estimator:hover label.sk-toggleable__label-arrow:before {color: black;}#sk-cb82164c-6aa3-40b4-95c0-5023d22d04b9 div.sk-toggleable__content {max-height: 0;max-width: 0;overflow: hidden;text-align: left;background-color: #f0f8ff;}#sk-cb82164c-6aa3-40b4-95c0-5023d22d04b9 div.sk-toggleable__content pre {margin: 0.2em;color: black;border-radius: 0.25em;background-color: #f0f8ff;}#sk-cb82164c-6aa3-40b4-95c0-5023d22d04b9 input.sk-toggleable__control:checked~div.sk-toggleable__content {max-height: 200px;max-width: 100%;overflow: auto;}#sk-cb82164c-6aa3-40b4-95c0-5023d22d04b9 input.sk-toggleable__control:checked~label.sk-toggleable__label-arrow:before {content: \"▾\";}#sk-cb82164c-6aa3-40b4-95c0-5023d22d04b9 div.sk-estimator input.sk-toggleable__control:checked~label.sk-toggleable__label {background-color: #d4ebff;}#sk-cb82164c-6aa3-40b4-95c0-5023d22d04b9 div.sk-label input.sk-toggleable__control:checked~label.sk-toggleable__label {background-color: #d4ebff;}#sk-cb82164c-6aa3-40b4-95c0-5023d22d04b9 input.sk-hidden--visually {border: 0;clip: rect(1px 1px 1px 1px);clip: rect(1px, 1px, 1px, 1px);height: 1px;margin: -1px;overflow: hidden;padding: 0;position: absolute;width: 1px;}#sk-cb82164c-6aa3-40b4-95c0-5023d22d04b9 div.sk-estimator {font-family: monospace;background-color: #f0f8ff;border: 1px dotted black;border-radius: 0.25em;box-sizing: border-box;margin-bottom: 0.5em;}#sk-cb82164c-6aa3-40b4-95c0-5023d22d04b9 div.sk-estimator:hover {background-color: #d4ebff;}#sk-cb82164c-6aa3-40b4-95c0-5023d22d04b9 div.sk-parallel-item::after {content: \"\";width: 100%;border-bottom: 1px solid gray;flex-grow: 1;}#sk-cb82164c-6aa3-40b4-95c0-5023d22d04b9 div.sk-label:hover label.sk-toggleable__label {background-color: #d4ebff;}#sk-cb82164c-6aa3-40b4-95c0-5023d22d04b9 div.sk-serial::before {content: \"\";position: absolute;border-left: 1px solid gray;box-sizing: border-box;top: 2em;bottom: 0;left: 50%;}#sk-cb82164c-6aa3-40b4-95c0-5023d22d04b9 div.sk-serial {display: flex;flex-direction: column;align-items: center;background-color: white;padding-right: 0.2em;padding-left: 0.2em;}#sk-cb82164c-6aa3-40b4-95c0-5023d22d04b9 div.sk-item {z-index: 1;}#sk-cb82164c-6aa3-40b4-95c0-5023d22d04b9 div.sk-parallel {display: flex;align-items: stretch;justify-content: center;background-color: white;}#sk-cb82164c-6aa3-40b4-95c0-5023d22d04b9 div.sk-parallel::before {content: \"\";position: absolute;border-left: 1px solid gray;box-sizing: border-box;top: 2em;bottom: 0;left: 50%;}#sk-cb82164c-6aa3-40b4-95c0-5023d22d04b9 div.sk-parallel-item {display: flex;flex-direction: column;position: relative;background-color: white;}#sk-cb82164c-6aa3-40b4-95c0-5023d22d04b9 div.sk-parallel-item:first-child::after {align-self: flex-end;width: 50%;}#sk-cb82164c-6aa3-40b4-95c0-5023d22d04b9 div.sk-parallel-item:last-child::after {align-self: flex-start;width: 50%;}#sk-cb82164c-6aa3-40b4-95c0-5023d22d04b9 div.sk-parallel-item:only-child::after {width: 0;}#sk-cb82164c-6aa3-40b4-95c0-5023d22d04b9 div.sk-dashed-wrapped {border: 1px dashed gray;margin: 0 0.4em 0.5em 0.4em;box-sizing: border-box;padding-bottom: 0.4em;background-color: white;position: relative;}#sk-cb82164c-6aa3-40b4-95c0-5023d22d04b9 div.sk-label label {font-family: monospace;font-weight: bold;background-color: white;display: inline-block;line-height: 1.2em;}#sk-cb82164c-6aa3-40b4-95c0-5023d22d04b9 div.sk-label-container {position: relative;z-index: 2;text-align: center;}#sk-cb82164c-6aa3-40b4-95c0-5023d22d04b9 div.sk-container {/* jupyter's `normalize.less` sets `[hidden] { display: none; }` but bootstrap.min.css set `[hidden] { display: none !important; }` so we also need the `!important` here to be able to override the default hidden behavior on the sphinx rendered scikit-learn.org. See: https://github.com/scikit-learn/scikit-learn/issues/21755 */display: inline-block !important;position: relative;}#sk-cb82164c-6aa3-40b4-95c0-5023d22d04b9 div.sk-text-repr-fallback {display: none;}</style><div id=\"sk-cb82164c-6aa3-40b4-95c0-5023d22d04b9\" class=\"sk-top-container\"><div class=\"sk-text-repr-fallback\"><pre>Pipeline(steps=[(&#x27;standard_scaler&#x27;, StandardScaler()),\n",
       "                (&#x27;classifier&#x27;, LogisticRegression())])</pre><b>Please rerun this cell to show the HTML repr or trust the notebook.</b></div><div class=\"sk-container\" hidden><div class=\"sk-item sk-dashed-wrapped\"><div class=\"sk-label-container\"><div class=\"sk-label sk-toggleable\"><input class=\"sk-toggleable__control sk-hidden--visually\" id=\"0a0b97d4-423e-4266-b04a-30f2106c2a50\" type=\"checkbox\" ><label for=\"0a0b97d4-423e-4266-b04a-30f2106c2a50\" class=\"sk-toggleable__label sk-toggleable__label-arrow\">Pipeline</label><div class=\"sk-toggleable__content\"><pre>Pipeline(steps=[(&#x27;standard_scaler&#x27;, StandardScaler()),\n",
       "                (&#x27;classifier&#x27;, LogisticRegression())])</pre></div></div></div><div class=\"sk-serial\"><div class=\"sk-item\"><div class=\"sk-estimator sk-toggleable\"><input class=\"sk-toggleable__control sk-hidden--visually\" id=\"0eed74a5-ee12-41e6-aa63-5fdf70f88e43\" type=\"checkbox\" ><label for=\"0eed74a5-ee12-41e6-aa63-5fdf70f88e43\" class=\"sk-toggleable__label sk-toggleable__label-arrow\">StandardScaler</label><div class=\"sk-toggleable__content\"><pre>StandardScaler()</pre></div></div></div><div class=\"sk-item\"><div class=\"sk-estimator sk-toggleable\"><input class=\"sk-toggleable__control sk-hidden--visually\" id=\"cd9300ed-d805-4629-b737-21486d52f8cc\" type=\"checkbox\" ><label for=\"cd9300ed-d805-4629-b737-21486d52f8cc\" class=\"sk-toggleable__label sk-toggleable__label-arrow\">LogisticRegression</label><div class=\"sk-toggleable__content\"><pre>LogisticRegression()</pre></div></div></div></div></div></div></div>"
      ],
      "text/plain": [
       "Pipeline(steps=[('standard_scaler', StandardScaler()),\n",
       "                ('classifier', LogisticRegression())])"
      ]
     },
     "execution_count": 5,
     "metadata": {},
     "output_type": "execute_result"
    }
   ],
   "source": [
    "pipe=Pipeline(steps)\n",
    "pipe"
   ]
  },
  {
   "cell_type": "code",
   "execution_count": 6,
   "id": "4c0f6149",
   "metadata": {},
   "outputs": [
    {
     "data": {
      "text/html": [
       "<style>#sk-43f30139-5ae1-4b35-9b8c-b483c450bcf2 {color: black;background-color: white;}#sk-43f30139-5ae1-4b35-9b8c-b483c450bcf2 pre{padding: 0;}#sk-43f30139-5ae1-4b35-9b8c-b483c450bcf2 div.sk-toggleable {background-color: white;}#sk-43f30139-5ae1-4b35-9b8c-b483c450bcf2 label.sk-toggleable__label {cursor: pointer;display: block;width: 100%;margin-bottom: 0;padding: 0.3em;box-sizing: border-box;text-align: center;}#sk-43f30139-5ae1-4b35-9b8c-b483c450bcf2 label.sk-toggleable__label-arrow:before {content: \"▸\";float: left;margin-right: 0.25em;color: #696969;}#sk-43f30139-5ae1-4b35-9b8c-b483c450bcf2 label.sk-toggleable__label-arrow:hover:before {color: black;}#sk-43f30139-5ae1-4b35-9b8c-b483c450bcf2 div.sk-estimator:hover label.sk-toggleable__label-arrow:before {color: black;}#sk-43f30139-5ae1-4b35-9b8c-b483c450bcf2 div.sk-toggleable__content {max-height: 0;max-width: 0;overflow: hidden;text-align: left;background-color: #f0f8ff;}#sk-43f30139-5ae1-4b35-9b8c-b483c450bcf2 div.sk-toggleable__content pre {margin: 0.2em;color: black;border-radius: 0.25em;background-color: #f0f8ff;}#sk-43f30139-5ae1-4b35-9b8c-b483c450bcf2 input.sk-toggleable__control:checked~div.sk-toggleable__content {max-height: 200px;max-width: 100%;overflow: auto;}#sk-43f30139-5ae1-4b35-9b8c-b483c450bcf2 input.sk-toggleable__control:checked~label.sk-toggleable__label-arrow:before {content: \"▾\";}#sk-43f30139-5ae1-4b35-9b8c-b483c450bcf2 div.sk-estimator input.sk-toggleable__control:checked~label.sk-toggleable__label {background-color: #d4ebff;}#sk-43f30139-5ae1-4b35-9b8c-b483c450bcf2 div.sk-label input.sk-toggleable__control:checked~label.sk-toggleable__label {background-color: #d4ebff;}#sk-43f30139-5ae1-4b35-9b8c-b483c450bcf2 input.sk-hidden--visually {border: 0;clip: rect(1px 1px 1px 1px);clip: rect(1px, 1px, 1px, 1px);height: 1px;margin: -1px;overflow: hidden;padding: 0;position: absolute;width: 1px;}#sk-43f30139-5ae1-4b35-9b8c-b483c450bcf2 div.sk-estimator {font-family: monospace;background-color: #f0f8ff;border: 1px dotted black;border-radius: 0.25em;box-sizing: border-box;margin-bottom: 0.5em;}#sk-43f30139-5ae1-4b35-9b8c-b483c450bcf2 div.sk-estimator:hover {background-color: #d4ebff;}#sk-43f30139-5ae1-4b35-9b8c-b483c450bcf2 div.sk-parallel-item::after {content: \"\";width: 100%;border-bottom: 1px solid gray;flex-grow: 1;}#sk-43f30139-5ae1-4b35-9b8c-b483c450bcf2 div.sk-label:hover label.sk-toggleable__label {background-color: #d4ebff;}#sk-43f30139-5ae1-4b35-9b8c-b483c450bcf2 div.sk-serial::before {content: \"\";position: absolute;border-left: 1px solid gray;box-sizing: border-box;top: 2em;bottom: 0;left: 50%;}#sk-43f30139-5ae1-4b35-9b8c-b483c450bcf2 div.sk-serial {display: flex;flex-direction: column;align-items: center;background-color: white;padding-right: 0.2em;padding-left: 0.2em;}#sk-43f30139-5ae1-4b35-9b8c-b483c450bcf2 div.sk-item {z-index: 1;}#sk-43f30139-5ae1-4b35-9b8c-b483c450bcf2 div.sk-parallel {display: flex;align-items: stretch;justify-content: center;background-color: white;}#sk-43f30139-5ae1-4b35-9b8c-b483c450bcf2 div.sk-parallel::before {content: \"\";position: absolute;border-left: 1px solid gray;box-sizing: border-box;top: 2em;bottom: 0;left: 50%;}#sk-43f30139-5ae1-4b35-9b8c-b483c450bcf2 div.sk-parallel-item {display: flex;flex-direction: column;position: relative;background-color: white;}#sk-43f30139-5ae1-4b35-9b8c-b483c450bcf2 div.sk-parallel-item:first-child::after {align-self: flex-end;width: 50%;}#sk-43f30139-5ae1-4b35-9b8c-b483c450bcf2 div.sk-parallel-item:last-child::after {align-self: flex-start;width: 50%;}#sk-43f30139-5ae1-4b35-9b8c-b483c450bcf2 div.sk-parallel-item:only-child::after {width: 0;}#sk-43f30139-5ae1-4b35-9b8c-b483c450bcf2 div.sk-dashed-wrapped {border: 1px dashed gray;margin: 0 0.4em 0.5em 0.4em;box-sizing: border-box;padding-bottom: 0.4em;background-color: white;position: relative;}#sk-43f30139-5ae1-4b35-9b8c-b483c450bcf2 div.sk-label label {font-family: monospace;font-weight: bold;background-color: white;display: inline-block;line-height: 1.2em;}#sk-43f30139-5ae1-4b35-9b8c-b483c450bcf2 div.sk-label-container {position: relative;z-index: 2;text-align: center;}#sk-43f30139-5ae1-4b35-9b8c-b483c450bcf2 div.sk-container {/* jupyter's `normalize.less` sets `[hidden] { display: none; }` but bootstrap.min.css set `[hidden] { display: none !important; }` so we also need the `!important` here to be able to override the default hidden behavior on the sphinx rendered scikit-learn.org. See: https://github.com/scikit-learn/scikit-learn/issues/21755 */display: inline-block !important;position: relative;}#sk-43f30139-5ae1-4b35-9b8c-b483c450bcf2 div.sk-text-repr-fallback {display: none;}</style><div id=\"sk-43f30139-5ae1-4b35-9b8c-b483c450bcf2\" class=\"sk-top-container\"><div class=\"sk-text-repr-fallback\"><pre>Pipeline(steps=[(&#x27;standard_scaler&#x27;, StandardScaler()),\n",
       "                (&#x27;classifier&#x27;, LogisticRegression())])</pre><b>Please rerun this cell to show the HTML repr or trust the notebook.</b></div><div class=\"sk-container\" hidden><div class=\"sk-item sk-dashed-wrapped\"><div class=\"sk-label-container\"><div class=\"sk-label sk-toggleable\"><input class=\"sk-toggleable__control sk-hidden--visually\" id=\"c46b976c-ec1e-47d5-8124-ed95ad713630\" type=\"checkbox\" ><label for=\"c46b976c-ec1e-47d5-8124-ed95ad713630\" class=\"sk-toggleable__label sk-toggleable__label-arrow\">Pipeline</label><div class=\"sk-toggleable__content\"><pre>Pipeline(steps=[(&#x27;standard_scaler&#x27;, StandardScaler()),\n",
       "                (&#x27;classifier&#x27;, LogisticRegression())])</pre></div></div></div><div class=\"sk-serial\"><div class=\"sk-item\"><div class=\"sk-estimator sk-toggleable\"><input class=\"sk-toggleable__control sk-hidden--visually\" id=\"a63ac258-f665-4619-a218-dc310a523971\" type=\"checkbox\" ><label for=\"a63ac258-f665-4619-a218-dc310a523971\" class=\"sk-toggleable__label sk-toggleable__label-arrow\">StandardScaler</label><div class=\"sk-toggleable__content\"><pre>StandardScaler()</pre></div></div></div><div class=\"sk-item\"><div class=\"sk-estimator sk-toggleable\"><input class=\"sk-toggleable__control sk-hidden--visually\" id=\"030b2eff-33ad-442d-8689-f29e754b5972\" type=\"checkbox\" ><label for=\"030b2eff-33ad-442d-8689-f29e754b5972\" class=\"sk-toggleable__label sk-toggleable__label-arrow\">LogisticRegression</label><div class=\"sk-toggleable__content\"><pre>LogisticRegression()</pre></div></div></div></div></div></div></div>"
      ],
      "text/plain": [
       "Pipeline(steps=[('standard_scaler', StandardScaler()),\n",
       "                ('classifier', LogisticRegression())])"
      ]
     },
     "execution_count": 6,
     "metadata": {},
     "output_type": "execute_result"
    }
   ],
   "source": [
    "##creating a dataset\n",
    "from sklearn.datasets import make_classification\n",
    "X,y=make_classification(n_samples=1000)\n",
    "\n",
    "from sklearn.model_selection import train_test_split\n",
    "X_train, X_test, y_train, y_test = train_test_split(\n",
    "    X, y, test_size=0.33, random_state=42)\n",
    "\n",
    "pipe.fit(X_train,y_train)"
   ]
  },
  {
   "cell_type": "code",
   "execution_count": 7,
   "id": "bdcbfbe1",
   "metadata": {},
   "outputs": [
    {
     "data": {
      "text/plain": [
       "array([1, 0, 1, 1, 1, 0, 0, 0, 0, 0, 1, 0, 0, 1, 1, 1, 0, 1, 0, 1, 0, 1,\n",
       "       0, 1, 1, 0, 1, 0, 1, 0, 0, 0, 1, 0, 0, 1, 1, 0, 0, 0, 0, 1, 0, 0,\n",
       "       1, 0, 1, 1, 1, 1, 0, 1, 0, 1, 0, 1, 1, 0, 1, 1, 1, 1, 0, 0, 1, 1,\n",
       "       1, 0, 0, 0, 1, 1, 1, 0, 1, 0, 1, 1, 1, 0, 0, 1, 1, 0, 0, 0, 0, 0,\n",
       "       1, 1, 0, 0, 1, 0, 0, 1, 0, 1, 1, 1, 0, 1, 1, 0, 0, 1, 1, 1, 1, 1,\n",
       "       0, 0, 1, 1, 1, 0, 0, 0, 1, 1, 1, 0, 0, 0, 1, 0, 1, 0, 0, 0, 0, 0,\n",
       "       1, 1, 1, 0, 1, 1, 0, 1, 0, 0, 0, 1, 0, 1, 1, 0, 0, 0, 0, 0, 0, 0,\n",
       "       0, 0, 1, 0, 0, 0, 0, 0, 0, 0, 1, 1, 0, 1, 0, 1, 1, 0, 0, 0, 1, 1,\n",
       "       1, 1, 1, 0, 1, 0, 0, 1, 1, 1, 1, 0, 1, 1, 0, 1, 1, 1, 1, 1, 0, 0,\n",
       "       0, 1, 1, 1, 1, 0, 1, 1, 1, 0, 0, 1, 1, 0, 1, 1, 1, 1, 0, 0, 1, 1,\n",
       "       1, 1, 0, 0, 1, 0, 1, 0, 0, 0, 0, 0, 0, 0, 1, 1, 1, 1, 1, 1, 0, 1,\n",
       "       0, 0, 0, 1, 0, 0, 1, 0, 1, 0, 0, 1, 1, 1, 1, 0, 1, 0, 0, 1, 0, 0,\n",
       "       1, 1, 1, 0, 1, 1, 0, 1, 1, 0, 0, 1, 1, 1, 0, 0, 1, 0, 1, 0, 1, 0,\n",
       "       1, 0, 0, 1, 1, 0, 1, 1, 1, 1, 0, 0, 1, 0, 1, 1, 0, 0, 1, 0, 1, 1,\n",
       "       1, 1, 1, 0, 0, 1, 1, 0, 1, 1, 0, 0, 0, 1, 1, 1, 0, 1, 1, 0, 0, 0])"
      ]
     },
     "execution_count": 7,
     "metadata": {},
     "output_type": "execute_result"
    }
   ],
   "source": [
    "y_pred=pipe.predict(X_test)\n",
    "\n",
    "y_pred"
   ]
  },
  {
   "cell_type": "code",
   "execution_count": 8,
   "id": "a4f5332f",
   "metadata": {},
   "outputs": [],
   "source": [
    "from sklearn.decomposition import PCA\n",
    "from sklearn.svm import SVC"
   ]
  },
  {
   "cell_type": "code",
   "execution_count": 9,
   "id": "bd228795",
   "metadata": {},
   "outputs": [],
   "source": [
    "steps=[(\"scaling\",StandardScaler()),\n",
    "      (\"PCA\",PCA(n_components=3)),\n",
    "      (\"SVC\",SVC())]"
   ]
  },
  {
   "cell_type": "code",
   "execution_count": 11,
   "id": "130ff4cc",
   "metadata": {},
   "outputs": [
    {
     "data": {
      "text/html": [
       "<style>#sk-8db31209-8260-4bdc-9e96-d90d713687b4 {color: black;background-color: white;}#sk-8db31209-8260-4bdc-9e96-d90d713687b4 pre{padding: 0;}#sk-8db31209-8260-4bdc-9e96-d90d713687b4 div.sk-toggleable {background-color: white;}#sk-8db31209-8260-4bdc-9e96-d90d713687b4 label.sk-toggleable__label {cursor: pointer;display: block;width: 100%;margin-bottom: 0;padding: 0.3em;box-sizing: border-box;text-align: center;}#sk-8db31209-8260-4bdc-9e96-d90d713687b4 label.sk-toggleable__label-arrow:before {content: \"▸\";float: left;margin-right: 0.25em;color: #696969;}#sk-8db31209-8260-4bdc-9e96-d90d713687b4 label.sk-toggleable__label-arrow:hover:before {color: black;}#sk-8db31209-8260-4bdc-9e96-d90d713687b4 div.sk-estimator:hover label.sk-toggleable__label-arrow:before {color: black;}#sk-8db31209-8260-4bdc-9e96-d90d713687b4 div.sk-toggleable__content {max-height: 0;max-width: 0;overflow: hidden;text-align: left;background-color: #f0f8ff;}#sk-8db31209-8260-4bdc-9e96-d90d713687b4 div.sk-toggleable__content pre {margin: 0.2em;color: black;border-radius: 0.25em;background-color: #f0f8ff;}#sk-8db31209-8260-4bdc-9e96-d90d713687b4 input.sk-toggleable__control:checked~div.sk-toggleable__content {max-height: 200px;max-width: 100%;overflow: auto;}#sk-8db31209-8260-4bdc-9e96-d90d713687b4 input.sk-toggleable__control:checked~label.sk-toggleable__label-arrow:before {content: \"▾\";}#sk-8db31209-8260-4bdc-9e96-d90d713687b4 div.sk-estimator input.sk-toggleable__control:checked~label.sk-toggleable__label {background-color: #d4ebff;}#sk-8db31209-8260-4bdc-9e96-d90d713687b4 div.sk-label input.sk-toggleable__control:checked~label.sk-toggleable__label {background-color: #d4ebff;}#sk-8db31209-8260-4bdc-9e96-d90d713687b4 input.sk-hidden--visually {border: 0;clip: rect(1px 1px 1px 1px);clip: rect(1px, 1px, 1px, 1px);height: 1px;margin: -1px;overflow: hidden;padding: 0;position: absolute;width: 1px;}#sk-8db31209-8260-4bdc-9e96-d90d713687b4 div.sk-estimator {font-family: monospace;background-color: #f0f8ff;border: 1px dotted black;border-radius: 0.25em;box-sizing: border-box;margin-bottom: 0.5em;}#sk-8db31209-8260-4bdc-9e96-d90d713687b4 div.sk-estimator:hover {background-color: #d4ebff;}#sk-8db31209-8260-4bdc-9e96-d90d713687b4 div.sk-parallel-item::after {content: \"\";width: 100%;border-bottom: 1px solid gray;flex-grow: 1;}#sk-8db31209-8260-4bdc-9e96-d90d713687b4 div.sk-label:hover label.sk-toggleable__label {background-color: #d4ebff;}#sk-8db31209-8260-4bdc-9e96-d90d713687b4 div.sk-serial::before {content: \"\";position: absolute;border-left: 1px solid gray;box-sizing: border-box;top: 2em;bottom: 0;left: 50%;}#sk-8db31209-8260-4bdc-9e96-d90d713687b4 div.sk-serial {display: flex;flex-direction: column;align-items: center;background-color: white;padding-right: 0.2em;padding-left: 0.2em;}#sk-8db31209-8260-4bdc-9e96-d90d713687b4 div.sk-item {z-index: 1;}#sk-8db31209-8260-4bdc-9e96-d90d713687b4 div.sk-parallel {display: flex;align-items: stretch;justify-content: center;background-color: white;}#sk-8db31209-8260-4bdc-9e96-d90d713687b4 div.sk-parallel::before {content: \"\";position: absolute;border-left: 1px solid gray;box-sizing: border-box;top: 2em;bottom: 0;left: 50%;}#sk-8db31209-8260-4bdc-9e96-d90d713687b4 div.sk-parallel-item {display: flex;flex-direction: column;position: relative;background-color: white;}#sk-8db31209-8260-4bdc-9e96-d90d713687b4 div.sk-parallel-item:first-child::after {align-self: flex-end;width: 50%;}#sk-8db31209-8260-4bdc-9e96-d90d713687b4 div.sk-parallel-item:last-child::after {align-self: flex-start;width: 50%;}#sk-8db31209-8260-4bdc-9e96-d90d713687b4 div.sk-parallel-item:only-child::after {width: 0;}#sk-8db31209-8260-4bdc-9e96-d90d713687b4 div.sk-dashed-wrapped {border: 1px dashed gray;margin: 0 0.4em 0.5em 0.4em;box-sizing: border-box;padding-bottom: 0.4em;background-color: white;position: relative;}#sk-8db31209-8260-4bdc-9e96-d90d713687b4 div.sk-label label {font-family: monospace;font-weight: bold;background-color: white;display: inline-block;line-height: 1.2em;}#sk-8db31209-8260-4bdc-9e96-d90d713687b4 div.sk-label-container {position: relative;z-index: 2;text-align: center;}#sk-8db31209-8260-4bdc-9e96-d90d713687b4 div.sk-container {/* jupyter's `normalize.less` sets `[hidden] { display: none; }` but bootstrap.min.css set `[hidden] { display: none !important; }` so we also need the `!important` here to be able to override the default hidden behavior on the sphinx rendered scikit-learn.org. See: https://github.com/scikit-learn/scikit-learn/issues/21755 */display: inline-block !important;position: relative;}#sk-8db31209-8260-4bdc-9e96-d90d713687b4 div.sk-text-repr-fallback {display: none;}</style><div id=\"sk-8db31209-8260-4bdc-9e96-d90d713687b4\" class=\"sk-top-container\"><div class=\"sk-text-repr-fallback\"><pre>Pipeline(steps=[(&#x27;scaling&#x27;, StandardScaler()), (&#x27;PCA&#x27;, PCA(n_components=3)),\n",
       "                (&#x27;SVC&#x27;, SVC())])</pre><b>Please rerun this cell to show the HTML repr or trust the notebook.</b></div><div class=\"sk-container\" hidden><div class=\"sk-item sk-dashed-wrapped\"><div class=\"sk-label-container\"><div class=\"sk-label sk-toggleable\"><input class=\"sk-toggleable__control sk-hidden--visually\" id=\"7e866c86-c58d-450e-8a07-6103e4548c70\" type=\"checkbox\" ><label for=\"7e866c86-c58d-450e-8a07-6103e4548c70\" class=\"sk-toggleable__label sk-toggleable__label-arrow\">Pipeline</label><div class=\"sk-toggleable__content\"><pre>Pipeline(steps=[(&#x27;scaling&#x27;, StandardScaler()), (&#x27;PCA&#x27;, PCA(n_components=3)),\n",
       "                (&#x27;SVC&#x27;, SVC())])</pre></div></div></div><div class=\"sk-serial\"><div class=\"sk-item\"><div class=\"sk-estimator sk-toggleable\"><input class=\"sk-toggleable__control sk-hidden--visually\" id=\"eef26186-c980-40d4-850f-661257ce47e9\" type=\"checkbox\" ><label for=\"eef26186-c980-40d4-850f-661257ce47e9\" class=\"sk-toggleable__label sk-toggleable__label-arrow\">StandardScaler</label><div class=\"sk-toggleable__content\"><pre>StandardScaler()</pre></div></div></div><div class=\"sk-item\"><div class=\"sk-estimator sk-toggleable\"><input class=\"sk-toggleable__control sk-hidden--visually\" id=\"3ece5712-1834-454a-8e71-524ceb616eb9\" type=\"checkbox\" ><label for=\"3ece5712-1834-454a-8e71-524ceb616eb9\" class=\"sk-toggleable__label sk-toggleable__label-arrow\">PCA</label><div class=\"sk-toggleable__content\"><pre>PCA(n_components=3)</pre></div></div></div><div class=\"sk-item\"><div class=\"sk-estimator sk-toggleable\"><input class=\"sk-toggleable__control sk-hidden--visually\" id=\"bca2d1ab-63bc-4a04-8111-2c1314809e53\" type=\"checkbox\" ><label for=\"bca2d1ab-63bc-4a04-8111-2c1314809e53\" class=\"sk-toggleable__label sk-toggleable__label-arrow\">SVC</label><div class=\"sk-toggleable__content\"><pre>SVC()</pre></div></div></div></div></div></div></div>"
      ],
      "text/plain": [
       "Pipeline(steps=[('scaling', StandardScaler()), ('PCA', PCA(n_components=3)),\n",
       "                ('SVC', SVC())])"
      ]
     },
     "execution_count": 11,
     "metadata": {},
     "output_type": "execute_result"
    }
   ],
   "source": [
    "pipe2=Pipeline(steps)\n",
    "pipe2"
   ]
  },
  {
   "cell_type": "code",
   "execution_count": 13,
   "id": "0bb91aee",
   "metadata": {},
   "outputs": [
    {
     "data": {
      "text/plain": [
       "array([1, 0, 1, 1, 1, 0, 0, 0, 0, 0, 1, 0, 0, 1, 1, 1, 0, 1, 0, 1, 0, 1,\n",
       "       0, 1, 1, 0, 1, 0, 1, 0, 0, 0, 1, 0, 0, 1, 1, 0, 0, 0, 0, 1, 0, 0,\n",
       "       1, 1, 1, 1, 0, 1, 0, 1, 0, 0, 0, 1, 1, 0, 1, 1, 1, 1, 0, 0, 1, 1,\n",
       "       1, 0, 0, 0, 1, 0, 1, 0, 1, 0, 1, 1, 1, 0, 0, 1, 1, 0, 0, 0, 0, 0,\n",
       "       0, 1, 1, 0, 1, 1, 0, 1, 0, 0, 0, 0, 0, 1, 1, 0, 0, 1, 1, 1, 1, 0,\n",
       "       0, 0, 1, 1, 1, 0, 0, 0, 0, 1, 1, 0, 0, 0, 1, 0, 1, 0, 0, 0, 0, 1,\n",
       "       1, 1, 1, 0, 1, 1, 0, 1, 0, 0, 0, 1, 0, 1, 1, 0, 0, 0, 0, 0, 0, 0,\n",
       "       0, 0, 1, 0, 0, 0, 0, 0, 0, 0, 1, 1, 0, 1, 0, 1, 1, 0, 0, 0, 1, 1,\n",
       "       1, 1, 1, 0, 1, 0, 1, 1, 1, 1, 1, 0, 1, 1, 0, 0, 1, 1, 1, 1, 0, 0,\n",
       "       0, 1, 1, 1, 1, 0, 1, 1, 1, 0, 0, 1, 1, 1, 0, 1, 1, 1, 0, 0, 1, 1,\n",
       "       1, 1, 0, 0, 1, 0, 1, 0, 0, 0, 0, 0, 0, 0, 1, 1, 1, 1, 1, 1, 0, 1,\n",
       "       0, 0, 0, 1, 0, 0, 1, 1, 1, 0, 0, 1, 1, 1, 1, 0, 1, 0, 0, 1, 0, 0,\n",
       "       1, 1, 1, 0, 1, 1, 0, 1, 1, 0, 0, 1, 1, 1, 0, 0, 1, 0, 1, 0, 1, 1,\n",
       "       1, 0, 0, 1, 1, 0, 1, 1, 1, 1, 0, 0, 1, 0, 1, 1, 0, 0, 1, 0, 1, 1,\n",
       "       1, 1, 1, 0, 0, 1, 1, 1, 1, 1, 0, 0, 0, 1, 1, 1, 0, 1, 1, 0, 0, 0])"
      ]
     },
     "execution_count": 13,
     "metadata": {},
     "output_type": "execute_result"
    }
   ],
   "source": [
    "pipe2.fit(X_train,y_train)\n",
    "pipe2.predict(X_test)"
   ]
  },
  {
   "cell_type": "code",
   "execution_count": 14,
   "id": "7f448b4f",
   "metadata": {},
   "outputs": [],
   "source": [
    "from sklearn.impute import SimpleImputer"
   ]
  },
  {
   "cell_type": "code",
   "execution_count": 15,
   "id": "2e271f68",
   "metadata": {},
   "outputs": [
    {
     "data": {
      "text/html": [
       "<style>#sk-19f8a13f-cdc1-4f7c-8649-2e8994ebd21c {color: black;background-color: white;}#sk-19f8a13f-cdc1-4f7c-8649-2e8994ebd21c pre{padding: 0;}#sk-19f8a13f-cdc1-4f7c-8649-2e8994ebd21c div.sk-toggleable {background-color: white;}#sk-19f8a13f-cdc1-4f7c-8649-2e8994ebd21c label.sk-toggleable__label {cursor: pointer;display: block;width: 100%;margin-bottom: 0;padding: 0.3em;box-sizing: border-box;text-align: center;}#sk-19f8a13f-cdc1-4f7c-8649-2e8994ebd21c label.sk-toggleable__label-arrow:before {content: \"▸\";float: left;margin-right: 0.25em;color: #696969;}#sk-19f8a13f-cdc1-4f7c-8649-2e8994ebd21c label.sk-toggleable__label-arrow:hover:before {color: black;}#sk-19f8a13f-cdc1-4f7c-8649-2e8994ebd21c div.sk-estimator:hover label.sk-toggleable__label-arrow:before {color: black;}#sk-19f8a13f-cdc1-4f7c-8649-2e8994ebd21c div.sk-toggleable__content {max-height: 0;max-width: 0;overflow: hidden;text-align: left;background-color: #f0f8ff;}#sk-19f8a13f-cdc1-4f7c-8649-2e8994ebd21c div.sk-toggleable__content pre {margin: 0.2em;color: black;border-radius: 0.25em;background-color: #f0f8ff;}#sk-19f8a13f-cdc1-4f7c-8649-2e8994ebd21c input.sk-toggleable__control:checked~div.sk-toggleable__content {max-height: 200px;max-width: 100%;overflow: auto;}#sk-19f8a13f-cdc1-4f7c-8649-2e8994ebd21c input.sk-toggleable__control:checked~label.sk-toggleable__label-arrow:before {content: \"▾\";}#sk-19f8a13f-cdc1-4f7c-8649-2e8994ebd21c div.sk-estimator input.sk-toggleable__control:checked~label.sk-toggleable__label {background-color: #d4ebff;}#sk-19f8a13f-cdc1-4f7c-8649-2e8994ebd21c div.sk-label input.sk-toggleable__control:checked~label.sk-toggleable__label {background-color: #d4ebff;}#sk-19f8a13f-cdc1-4f7c-8649-2e8994ebd21c input.sk-hidden--visually {border: 0;clip: rect(1px 1px 1px 1px);clip: rect(1px, 1px, 1px, 1px);height: 1px;margin: -1px;overflow: hidden;padding: 0;position: absolute;width: 1px;}#sk-19f8a13f-cdc1-4f7c-8649-2e8994ebd21c div.sk-estimator {font-family: monospace;background-color: #f0f8ff;border: 1px dotted black;border-radius: 0.25em;box-sizing: border-box;margin-bottom: 0.5em;}#sk-19f8a13f-cdc1-4f7c-8649-2e8994ebd21c div.sk-estimator:hover {background-color: #d4ebff;}#sk-19f8a13f-cdc1-4f7c-8649-2e8994ebd21c div.sk-parallel-item::after {content: \"\";width: 100%;border-bottom: 1px solid gray;flex-grow: 1;}#sk-19f8a13f-cdc1-4f7c-8649-2e8994ebd21c div.sk-label:hover label.sk-toggleable__label {background-color: #d4ebff;}#sk-19f8a13f-cdc1-4f7c-8649-2e8994ebd21c div.sk-serial::before {content: \"\";position: absolute;border-left: 1px solid gray;box-sizing: border-box;top: 2em;bottom: 0;left: 50%;}#sk-19f8a13f-cdc1-4f7c-8649-2e8994ebd21c div.sk-serial {display: flex;flex-direction: column;align-items: center;background-color: white;padding-right: 0.2em;padding-left: 0.2em;}#sk-19f8a13f-cdc1-4f7c-8649-2e8994ebd21c div.sk-item {z-index: 1;}#sk-19f8a13f-cdc1-4f7c-8649-2e8994ebd21c div.sk-parallel {display: flex;align-items: stretch;justify-content: center;background-color: white;}#sk-19f8a13f-cdc1-4f7c-8649-2e8994ebd21c div.sk-parallel::before {content: \"\";position: absolute;border-left: 1px solid gray;box-sizing: border-box;top: 2em;bottom: 0;left: 50%;}#sk-19f8a13f-cdc1-4f7c-8649-2e8994ebd21c div.sk-parallel-item {display: flex;flex-direction: column;position: relative;background-color: white;}#sk-19f8a13f-cdc1-4f7c-8649-2e8994ebd21c div.sk-parallel-item:first-child::after {align-self: flex-end;width: 50%;}#sk-19f8a13f-cdc1-4f7c-8649-2e8994ebd21c div.sk-parallel-item:last-child::after {align-self: flex-start;width: 50%;}#sk-19f8a13f-cdc1-4f7c-8649-2e8994ebd21c div.sk-parallel-item:only-child::after {width: 0;}#sk-19f8a13f-cdc1-4f7c-8649-2e8994ebd21c div.sk-dashed-wrapped {border: 1px dashed gray;margin: 0 0.4em 0.5em 0.4em;box-sizing: border-box;padding-bottom: 0.4em;background-color: white;position: relative;}#sk-19f8a13f-cdc1-4f7c-8649-2e8994ebd21c div.sk-label label {font-family: monospace;font-weight: bold;background-color: white;display: inline-block;line-height: 1.2em;}#sk-19f8a13f-cdc1-4f7c-8649-2e8994ebd21c div.sk-label-container {position: relative;z-index: 2;text-align: center;}#sk-19f8a13f-cdc1-4f7c-8649-2e8994ebd21c div.sk-container {/* jupyter's `normalize.less` sets `[hidden] { display: none; }` but bootstrap.min.css set `[hidden] { display: none !important; }` so we also need the `!important` here to be able to override the default hidden behavior on the sphinx rendered scikit-learn.org. See: https://github.com/scikit-learn/scikit-learn/issues/21755 */display: inline-block !important;position: relative;}#sk-19f8a13f-cdc1-4f7c-8649-2e8994ebd21c div.sk-text-repr-fallback {display: none;}</style><div id=\"sk-19f8a13f-cdc1-4f7c-8649-2e8994ebd21c\" class=\"sk-top-container\"><div class=\"sk-text-repr-fallback\"><pre>Pipeline(steps=[(&#x27;imputation_mean&#x27;, SimpleImputer()),\n",
       "                (&#x27;scaler&#x27;, StandardScaler())])</pre><b>Please rerun this cell to show the HTML repr or trust the notebook.</b></div><div class=\"sk-container\" hidden><div class=\"sk-item sk-dashed-wrapped\"><div class=\"sk-label-container\"><div class=\"sk-label sk-toggleable\"><input class=\"sk-toggleable__control sk-hidden--visually\" id=\"6a4534e2-d94b-4174-82c3-a8f10529928a\" type=\"checkbox\" ><label for=\"6a4534e2-d94b-4174-82c3-a8f10529928a\" class=\"sk-toggleable__label sk-toggleable__label-arrow\">Pipeline</label><div class=\"sk-toggleable__content\"><pre>Pipeline(steps=[(&#x27;imputation_mean&#x27;, SimpleImputer()),\n",
       "                (&#x27;scaler&#x27;, StandardScaler())])</pre></div></div></div><div class=\"sk-serial\"><div class=\"sk-item\"><div class=\"sk-estimator sk-toggleable\"><input class=\"sk-toggleable__control sk-hidden--visually\" id=\"b37142b1-3905-47a8-a1cb-b2d3beab1f1b\" type=\"checkbox\" ><label for=\"b37142b1-3905-47a8-a1cb-b2d3beab1f1b\" class=\"sk-toggleable__label sk-toggleable__label-arrow\">SimpleImputer</label><div class=\"sk-toggleable__content\"><pre>SimpleImputer()</pre></div></div></div><div class=\"sk-item\"><div class=\"sk-estimator sk-toggleable\"><input class=\"sk-toggleable__control sk-hidden--visually\" id=\"16761ff3-70c6-4339-8eb6-379fee445bc1\" type=\"checkbox\" ><label for=\"16761ff3-70c6-4339-8eb6-379fee445bc1\" class=\"sk-toggleable__label sk-toggleable__label-arrow\">StandardScaler</label><div class=\"sk-toggleable__content\"><pre>StandardScaler()</pre></div></div></div></div></div></div></div>"
      ],
      "text/plain": [
       "Pipeline(steps=[('imputation_mean', SimpleImputer()),\n",
       "                ('scaler', StandardScaler())])"
      ]
     },
     "execution_count": 15,
     "metadata": {},
     "output_type": "execute_result"
    }
   ],
   "source": [
    "## numerical processing pipeline\n",
    "import numpy as np\n",
    "numeric_processor=Pipeline(\n",
    "    steps=[(\"imputation_mean\",SimpleImputer(missing_values=np.nan,strategy=\"mean\")),\n",
    "          (\"scaler\",StandardScaler())]\n",
    "\n",
    ")\n",
    "\n",
    "numeric_processor"
   ]
  },
  {
   "cell_type": "code",
   "execution_count": 16,
   "id": "c09d2c7b",
   "metadata": {},
   "outputs": [
    {
     "data": {
      "text/html": [
       "<style>#sk-9b302061-b048-4e03-a3c8-c4335708d2d9 {color: black;background-color: white;}#sk-9b302061-b048-4e03-a3c8-c4335708d2d9 pre{padding: 0;}#sk-9b302061-b048-4e03-a3c8-c4335708d2d9 div.sk-toggleable {background-color: white;}#sk-9b302061-b048-4e03-a3c8-c4335708d2d9 label.sk-toggleable__label {cursor: pointer;display: block;width: 100%;margin-bottom: 0;padding: 0.3em;box-sizing: border-box;text-align: center;}#sk-9b302061-b048-4e03-a3c8-c4335708d2d9 label.sk-toggleable__label-arrow:before {content: \"▸\";float: left;margin-right: 0.25em;color: #696969;}#sk-9b302061-b048-4e03-a3c8-c4335708d2d9 label.sk-toggleable__label-arrow:hover:before {color: black;}#sk-9b302061-b048-4e03-a3c8-c4335708d2d9 div.sk-estimator:hover label.sk-toggleable__label-arrow:before {color: black;}#sk-9b302061-b048-4e03-a3c8-c4335708d2d9 div.sk-toggleable__content {max-height: 0;max-width: 0;overflow: hidden;text-align: left;background-color: #f0f8ff;}#sk-9b302061-b048-4e03-a3c8-c4335708d2d9 div.sk-toggleable__content pre {margin: 0.2em;color: black;border-radius: 0.25em;background-color: #f0f8ff;}#sk-9b302061-b048-4e03-a3c8-c4335708d2d9 input.sk-toggleable__control:checked~div.sk-toggleable__content {max-height: 200px;max-width: 100%;overflow: auto;}#sk-9b302061-b048-4e03-a3c8-c4335708d2d9 input.sk-toggleable__control:checked~label.sk-toggleable__label-arrow:before {content: \"▾\";}#sk-9b302061-b048-4e03-a3c8-c4335708d2d9 div.sk-estimator input.sk-toggleable__control:checked~label.sk-toggleable__label {background-color: #d4ebff;}#sk-9b302061-b048-4e03-a3c8-c4335708d2d9 div.sk-label input.sk-toggleable__control:checked~label.sk-toggleable__label {background-color: #d4ebff;}#sk-9b302061-b048-4e03-a3c8-c4335708d2d9 input.sk-hidden--visually {border: 0;clip: rect(1px 1px 1px 1px);clip: rect(1px, 1px, 1px, 1px);height: 1px;margin: -1px;overflow: hidden;padding: 0;position: absolute;width: 1px;}#sk-9b302061-b048-4e03-a3c8-c4335708d2d9 div.sk-estimator {font-family: monospace;background-color: #f0f8ff;border: 1px dotted black;border-radius: 0.25em;box-sizing: border-box;margin-bottom: 0.5em;}#sk-9b302061-b048-4e03-a3c8-c4335708d2d9 div.sk-estimator:hover {background-color: #d4ebff;}#sk-9b302061-b048-4e03-a3c8-c4335708d2d9 div.sk-parallel-item::after {content: \"\";width: 100%;border-bottom: 1px solid gray;flex-grow: 1;}#sk-9b302061-b048-4e03-a3c8-c4335708d2d9 div.sk-label:hover label.sk-toggleable__label {background-color: #d4ebff;}#sk-9b302061-b048-4e03-a3c8-c4335708d2d9 div.sk-serial::before {content: \"\";position: absolute;border-left: 1px solid gray;box-sizing: border-box;top: 2em;bottom: 0;left: 50%;}#sk-9b302061-b048-4e03-a3c8-c4335708d2d9 div.sk-serial {display: flex;flex-direction: column;align-items: center;background-color: white;padding-right: 0.2em;padding-left: 0.2em;}#sk-9b302061-b048-4e03-a3c8-c4335708d2d9 div.sk-item {z-index: 1;}#sk-9b302061-b048-4e03-a3c8-c4335708d2d9 div.sk-parallel {display: flex;align-items: stretch;justify-content: center;background-color: white;}#sk-9b302061-b048-4e03-a3c8-c4335708d2d9 div.sk-parallel::before {content: \"\";position: absolute;border-left: 1px solid gray;box-sizing: border-box;top: 2em;bottom: 0;left: 50%;}#sk-9b302061-b048-4e03-a3c8-c4335708d2d9 div.sk-parallel-item {display: flex;flex-direction: column;position: relative;background-color: white;}#sk-9b302061-b048-4e03-a3c8-c4335708d2d9 div.sk-parallel-item:first-child::after {align-self: flex-end;width: 50%;}#sk-9b302061-b048-4e03-a3c8-c4335708d2d9 div.sk-parallel-item:last-child::after {align-self: flex-start;width: 50%;}#sk-9b302061-b048-4e03-a3c8-c4335708d2d9 div.sk-parallel-item:only-child::after {width: 0;}#sk-9b302061-b048-4e03-a3c8-c4335708d2d9 div.sk-dashed-wrapped {border: 1px dashed gray;margin: 0 0.4em 0.5em 0.4em;box-sizing: border-box;padding-bottom: 0.4em;background-color: white;position: relative;}#sk-9b302061-b048-4e03-a3c8-c4335708d2d9 div.sk-label label {font-family: monospace;font-weight: bold;background-color: white;display: inline-block;line-height: 1.2em;}#sk-9b302061-b048-4e03-a3c8-c4335708d2d9 div.sk-label-container {position: relative;z-index: 2;text-align: center;}#sk-9b302061-b048-4e03-a3c8-c4335708d2d9 div.sk-container {/* jupyter's `normalize.less` sets `[hidden] { display: none; }` but bootstrap.min.css set `[hidden] { display: none !important; }` so we also need the `!important` here to be able to override the default hidden behavior on the sphinx rendered scikit-learn.org. See: https://github.com/scikit-learn/scikit-learn/issues/21755 */display: inline-block !important;position: relative;}#sk-9b302061-b048-4e03-a3c8-c4335708d2d9 div.sk-text-repr-fallback {display: none;}</style><div id=\"sk-9b302061-b048-4e03-a3c8-c4335708d2d9\" class=\"sk-top-container\"><div class=\"sk-text-repr-fallback\"><pre>Pipeline(steps=[(&#x27;imputation_consatnt&#x27;,\n",
       "                 SimpleImputer(fill_value=&#x27;missing&#x27;, strategy=&#x27;constant&#x27;)),\n",
       "                (&#x27;onehot&#x27;, OneHotEncoder(handle_unknown=&#x27;ignore&#x27;))])</pre><b>Please rerun this cell to show the HTML repr or trust the notebook.</b></div><div class=\"sk-container\" hidden><div class=\"sk-item sk-dashed-wrapped\"><div class=\"sk-label-container\"><div class=\"sk-label sk-toggleable\"><input class=\"sk-toggleable__control sk-hidden--visually\" id=\"3fee5a98-6a1e-437d-8463-9cb98b505a68\" type=\"checkbox\" ><label for=\"3fee5a98-6a1e-437d-8463-9cb98b505a68\" class=\"sk-toggleable__label sk-toggleable__label-arrow\">Pipeline</label><div class=\"sk-toggleable__content\"><pre>Pipeline(steps=[(&#x27;imputation_consatnt&#x27;,\n",
       "                 SimpleImputer(fill_value=&#x27;missing&#x27;, strategy=&#x27;constant&#x27;)),\n",
       "                (&#x27;onehot&#x27;, OneHotEncoder(handle_unknown=&#x27;ignore&#x27;))])</pre></div></div></div><div class=\"sk-serial\"><div class=\"sk-item\"><div class=\"sk-estimator sk-toggleable\"><input class=\"sk-toggleable__control sk-hidden--visually\" id=\"433f0406-509f-4e38-a7bb-b38f322e7a63\" type=\"checkbox\" ><label for=\"433f0406-509f-4e38-a7bb-b38f322e7a63\" class=\"sk-toggleable__label sk-toggleable__label-arrow\">SimpleImputer</label><div class=\"sk-toggleable__content\"><pre>SimpleImputer(fill_value=&#x27;missing&#x27;, strategy=&#x27;constant&#x27;)</pre></div></div></div><div class=\"sk-item\"><div class=\"sk-estimator sk-toggleable\"><input class=\"sk-toggleable__control sk-hidden--visually\" id=\"0928a574-4232-4ddd-b3e7-5d47b26933c3\" type=\"checkbox\" ><label for=\"0928a574-4232-4ddd-b3e7-5d47b26933c3\" class=\"sk-toggleable__label sk-toggleable__label-arrow\">OneHotEncoder</label><div class=\"sk-toggleable__content\"><pre>OneHotEncoder(handle_unknown=&#x27;ignore&#x27;)</pre></div></div></div></div></div></div></div>"
      ],
      "text/plain": [
       "Pipeline(steps=[('imputation_consatnt',\n",
       "                 SimpleImputer(fill_value='missing', strategy='constant')),\n",
       "                ('onehot', OneHotEncoder(handle_unknown='ignore'))])"
      ]
     },
     "execution_count": 16,
     "metadata": {},
     "output_type": "execute_result"
    }
   ],
   "source": [
    "from sklearn.preprocessing import OneHotEncoder\n",
    "categorical_processor=Pipeline(\n",
    "    steps=[(\"imputation_consatnt\",SimpleImputer(fill_value=\"missing\",strategy=\"constant\")),\n",
    "          (\"onehot\",OneHotEncoder(handle_unknown=\"ignore\"))]\n",
    "\n",
    ")\n",
    "\n",
    "categorical_processor"
   ]
  },
  {
   "cell_type": "code",
   "execution_count": 18,
   "id": "1f229806",
   "metadata": {},
   "outputs": [
    {
     "data": {
      "text/html": [
       "<style>#sk-dcffc5b4-c694-42b9-bd0b-9b464848dc30 {color: black;background-color: white;}#sk-dcffc5b4-c694-42b9-bd0b-9b464848dc30 pre{padding: 0;}#sk-dcffc5b4-c694-42b9-bd0b-9b464848dc30 div.sk-toggleable {background-color: white;}#sk-dcffc5b4-c694-42b9-bd0b-9b464848dc30 label.sk-toggleable__label {cursor: pointer;display: block;width: 100%;margin-bottom: 0;padding: 0.3em;box-sizing: border-box;text-align: center;}#sk-dcffc5b4-c694-42b9-bd0b-9b464848dc30 label.sk-toggleable__label-arrow:before {content: \"▸\";float: left;margin-right: 0.25em;color: #696969;}#sk-dcffc5b4-c694-42b9-bd0b-9b464848dc30 label.sk-toggleable__label-arrow:hover:before {color: black;}#sk-dcffc5b4-c694-42b9-bd0b-9b464848dc30 div.sk-estimator:hover label.sk-toggleable__label-arrow:before {color: black;}#sk-dcffc5b4-c694-42b9-bd0b-9b464848dc30 div.sk-toggleable__content {max-height: 0;max-width: 0;overflow: hidden;text-align: left;background-color: #f0f8ff;}#sk-dcffc5b4-c694-42b9-bd0b-9b464848dc30 div.sk-toggleable__content pre {margin: 0.2em;color: black;border-radius: 0.25em;background-color: #f0f8ff;}#sk-dcffc5b4-c694-42b9-bd0b-9b464848dc30 input.sk-toggleable__control:checked~div.sk-toggleable__content {max-height: 200px;max-width: 100%;overflow: auto;}#sk-dcffc5b4-c694-42b9-bd0b-9b464848dc30 input.sk-toggleable__control:checked~label.sk-toggleable__label-arrow:before {content: \"▾\";}#sk-dcffc5b4-c694-42b9-bd0b-9b464848dc30 div.sk-estimator input.sk-toggleable__control:checked~label.sk-toggleable__label {background-color: #d4ebff;}#sk-dcffc5b4-c694-42b9-bd0b-9b464848dc30 div.sk-label input.sk-toggleable__control:checked~label.sk-toggleable__label {background-color: #d4ebff;}#sk-dcffc5b4-c694-42b9-bd0b-9b464848dc30 input.sk-hidden--visually {border: 0;clip: rect(1px 1px 1px 1px);clip: rect(1px, 1px, 1px, 1px);height: 1px;margin: -1px;overflow: hidden;padding: 0;position: absolute;width: 1px;}#sk-dcffc5b4-c694-42b9-bd0b-9b464848dc30 div.sk-estimator {font-family: monospace;background-color: #f0f8ff;border: 1px dotted black;border-radius: 0.25em;box-sizing: border-box;margin-bottom: 0.5em;}#sk-dcffc5b4-c694-42b9-bd0b-9b464848dc30 div.sk-estimator:hover {background-color: #d4ebff;}#sk-dcffc5b4-c694-42b9-bd0b-9b464848dc30 div.sk-parallel-item::after {content: \"\";width: 100%;border-bottom: 1px solid gray;flex-grow: 1;}#sk-dcffc5b4-c694-42b9-bd0b-9b464848dc30 div.sk-label:hover label.sk-toggleable__label {background-color: #d4ebff;}#sk-dcffc5b4-c694-42b9-bd0b-9b464848dc30 div.sk-serial::before {content: \"\";position: absolute;border-left: 1px solid gray;box-sizing: border-box;top: 2em;bottom: 0;left: 50%;}#sk-dcffc5b4-c694-42b9-bd0b-9b464848dc30 div.sk-serial {display: flex;flex-direction: column;align-items: center;background-color: white;padding-right: 0.2em;padding-left: 0.2em;}#sk-dcffc5b4-c694-42b9-bd0b-9b464848dc30 div.sk-item {z-index: 1;}#sk-dcffc5b4-c694-42b9-bd0b-9b464848dc30 div.sk-parallel {display: flex;align-items: stretch;justify-content: center;background-color: white;}#sk-dcffc5b4-c694-42b9-bd0b-9b464848dc30 div.sk-parallel::before {content: \"\";position: absolute;border-left: 1px solid gray;box-sizing: border-box;top: 2em;bottom: 0;left: 50%;}#sk-dcffc5b4-c694-42b9-bd0b-9b464848dc30 div.sk-parallel-item {display: flex;flex-direction: column;position: relative;background-color: white;}#sk-dcffc5b4-c694-42b9-bd0b-9b464848dc30 div.sk-parallel-item:first-child::after {align-self: flex-end;width: 50%;}#sk-dcffc5b4-c694-42b9-bd0b-9b464848dc30 div.sk-parallel-item:last-child::after {align-self: flex-start;width: 50%;}#sk-dcffc5b4-c694-42b9-bd0b-9b464848dc30 div.sk-parallel-item:only-child::after {width: 0;}#sk-dcffc5b4-c694-42b9-bd0b-9b464848dc30 div.sk-dashed-wrapped {border: 1px dashed gray;margin: 0 0.4em 0.5em 0.4em;box-sizing: border-box;padding-bottom: 0.4em;background-color: white;position: relative;}#sk-dcffc5b4-c694-42b9-bd0b-9b464848dc30 div.sk-label label {font-family: monospace;font-weight: bold;background-color: white;display: inline-block;line-height: 1.2em;}#sk-dcffc5b4-c694-42b9-bd0b-9b464848dc30 div.sk-label-container {position: relative;z-index: 2;text-align: center;}#sk-dcffc5b4-c694-42b9-bd0b-9b464848dc30 div.sk-container {/* jupyter's `normalize.less` sets `[hidden] { display: none; }` but bootstrap.min.css set `[hidden] { display: none !important; }` so we also need the `!important` here to be able to override the default hidden behavior on the sphinx rendered scikit-learn.org. See: https://github.com/scikit-learn/scikit-learn/issues/21755 */display: inline-block !important;position: relative;}#sk-dcffc5b4-c694-42b9-bd0b-9b464848dc30 div.sk-text-repr-fallback {display: none;}</style><div id=\"sk-dcffc5b4-c694-42b9-bd0b-9b464848dc30\" class=\"sk-top-container\"><div class=\"sk-text-repr-fallback\"><pre>ColumnTransformer(transformers=[(&#x27;categorical&#x27;,\n",
       "                                 Pipeline(steps=[(&#x27;imputation_consatnt&#x27;,\n",
       "                                                  SimpleImputer(fill_value=&#x27;missing&#x27;,\n",
       "                                                                strategy=&#x27;constant&#x27;)),\n",
       "                                                 (&#x27;onehot&#x27;,\n",
       "                                                  OneHotEncoder(handle_unknown=&#x27;ignore&#x27;))]),\n",
       "                                 [&#x27;gender&#x27;, &#x27;City&#x27;]),\n",
       "                                (&#x27;numerical&#x27;,\n",
       "                                 Pipeline(steps=[(&#x27;imputation_mean&#x27;,\n",
       "                                                  SimpleImputer()),\n",
       "                                                 (&#x27;scaler&#x27;, StandardScaler())]),\n",
       "                                 [&#x27;age&#x27;, &#x27;height&#x27;])])</pre><b>Please rerun this cell to show the HTML repr or trust the notebook.</b></div><div class=\"sk-container\" hidden><div class=\"sk-item sk-dashed-wrapped\"><div class=\"sk-label-container\"><div class=\"sk-label sk-toggleable\"><input class=\"sk-toggleable__control sk-hidden--visually\" id=\"a1555ebe-cd39-4df5-ba1e-cb7ef4448b2c\" type=\"checkbox\" ><label for=\"a1555ebe-cd39-4df5-ba1e-cb7ef4448b2c\" class=\"sk-toggleable__label sk-toggleable__label-arrow\">ColumnTransformer</label><div class=\"sk-toggleable__content\"><pre>ColumnTransformer(transformers=[(&#x27;categorical&#x27;,\n",
       "                                 Pipeline(steps=[(&#x27;imputation_consatnt&#x27;,\n",
       "                                                  SimpleImputer(fill_value=&#x27;missing&#x27;,\n",
       "                                                                strategy=&#x27;constant&#x27;)),\n",
       "                                                 (&#x27;onehot&#x27;,\n",
       "                                                  OneHotEncoder(handle_unknown=&#x27;ignore&#x27;))]),\n",
       "                                 [&#x27;gender&#x27;, &#x27;City&#x27;]),\n",
       "                                (&#x27;numerical&#x27;,\n",
       "                                 Pipeline(steps=[(&#x27;imputation_mean&#x27;,\n",
       "                                                  SimpleImputer()),\n",
       "                                                 (&#x27;scaler&#x27;, StandardScaler())]),\n",
       "                                 [&#x27;age&#x27;, &#x27;height&#x27;])])</pre></div></div></div><div class=\"sk-parallel\"><div class=\"sk-parallel-item\"><div class=\"sk-item\"><div class=\"sk-label-container\"><div class=\"sk-label sk-toggleable\"><input class=\"sk-toggleable__control sk-hidden--visually\" id=\"aa1b2357-25c8-456b-92ff-6dbab30efc7d\" type=\"checkbox\" ><label for=\"aa1b2357-25c8-456b-92ff-6dbab30efc7d\" class=\"sk-toggleable__label sk-toggleable__label-arrow\">categorical</label><div class=\"sk-toggleable__content\"><pre>[&#x27;gender&#x27;, &#x27;City&#x27;]</pre></div></div></div><div class=\"sk-serial\"><div class=\"sk-item\"><div class=\"sk-serial\"><div class=\"sk-item\"><div class=\"sk-estimator sk-toggleable\"><input class=\"sk-toggleable__control sk-hidden--visually\" id=\"6a6e0e11-3b0f-4dc1-bbab-3be6e35c83ec\" type=\"checkbox\" ><label for=\"6a6e0e11-3b0f-4dc1-bbab-3be6e35c83ec\" class=\"sk-toggleable__label sk-toggleable__label-arrow\">SimpleImputer</label><div class=\"sk-toggleable__content\"><pre>SimpleImputer(fill_value=&#x27;missing&#x27;, strategy=&#x27;constant&#x27;)</pre></div></div></div><div class=\"sk-item\"><div class=\"sk-estimator sk-toggleable\"><input class=\"sk-toggleable__control sk-hidden--visually\" id=\"9d836e3b-6d9d-490f-8bf0-672900f9e46e\" type=\"checkbox\" ><label for=\"9d836e3b-6d9d-490f-8bf0-672900f9e46e\" class=\"sk-toggleable__label sk-toggleable__label-arrow\">OneHotEncoder</label><div class=\"sk-toggleable__content\"><pre>OneHotEncoder(handle_unknown=&#x27;ignore&#x27;)</pre></div></div></div></div></div></div></div></div><div class=\"sk-parallel-item\"><div class=\"sk-item\"><div class=\"sk-label-container\"><div class=\"sk-label sk-toggleable\"><input class=\"sk-toggleable__control sk-hidden--visually\" id=\"9baac713-a82f-4085-ba32-3d5ba6fcbfe0\" type=\"checkbox\" ><label for=\"9baac713-a82f-4085-ba32-3d5ba6fcbfe0\" class=\"sk-toggleable__label sk-toggleable__label-arrow\">numerical</label><div class=\"sk-toggleable__content\"><pre>[&#x27;age&#x27;, &#x27;height&#x27;]</pre></div></div></div><div class=\"sk-serial\"><div class=\"sk-item\"><div class=\"sk-serial\"><div class=\"sk-item\"><div class=\"sk-estimator sk-toggleable\"><input class=\"sk-toggleable__control sk-hidden--visually\" id=\"fa3f4ba4-1a75-4537-86d4-0fb37c63543b\" type=\"checkbox\" ><label for=\"fa3f4ba4-1a75-4537-86d4-0fb37c63543b\" class=\"sk-toggleable__label sk-toggleable__label-arrow\">SimpleImputer</label><div class=\"sk-toggleable__content\"><pre>SimpleImputer()</pre></div></div></div><div class=\"sk-item\"><div class=\"sk-estimator sk-toggleable\"><input class=\"sk-toggleable__control sk-hidden--visually\" id=\"69cd7308-d5df-4506-9fb7-78d8dd085647\" type=\"checkbox\" ><label for=\"69cd7308-d5df-4506-9fb7-78d8dd085647\" class=\"sk-toggleable__label sk-toggleable__label-arrow\">StandardScaler</label><div class=\"sk-toggleable__content\"><pre>StandardScaler()</pre></div></div></div></div></div></div></div></div></div></div></div></div>"
      ],
      "text/plain": [
       "ColumnTransformer(transformers=[('categorical',\n",
       "                                 Pipeline(steps=[('imputation_consatnt',\n",
       "                                                  SimpleImputer(fill_value='missing',\n",
       "                                                                strategy='constant')),\n",
       "                                                 ('onehot',\n",
       "                                                  OneHotEncoder(handle_unknown='ignore'))]),\n",
       "                                 ['gender', 'City']),\n",
       "                                ('numerical',\n",
       "                                 Pipeline(steps=[('imputation_mean',\n",
       "                                                  SimpleImputer()),\n",
       "                                                 ('scaler', StandardScaler())]),\n",
       "                                 ['age', 'height'])])"
      ]
     },
     "execution_count": 18,
     "metadata": {},
     "output_type": "execute_result"
    }
   ],
   "source": [
    "## combine processing technqiues\n",
    "from sklearn.compose import ColumnTransformer\n",
    "\n",
    "preprocessor=ColumnTransformer(\n",
    "    [(\"categorical\",categorical_processor,[\"gender\",\"City\"]),\n",
    "    (\"numerical\",numeric_processor,[\"age\",\"height\"])]\n",
    "\n",
    "\n",
    ")\n",
    "\n",
    "preprocessor"
   ]
  },
  {
   "cell_type": "code",
   "execution_count": 19,
   "id": "11632d2d",
   "metadata": {},
   "outputs": [
    {
     "data": {
      "text/html": [
       "<style>#sk-a63533b5-0f06-40b1-b46d-4492b48bde2f {color: black;background-color: white;}#sk-a63533b5-0f06-40b1-b46d-4492b48bde2f pre{padding: 0;}#sk-a63533b5-0f06-40b1-b46d-4492b48bde2f div.sk-toggleable {background-color: white;}#sk-a63533b5-0f06-40b1-b46d-4492b48bde2f label.sk-toggleable__label {cursor: pointer;display: block;width: 100%;margin-bottom: 0;padding: 0.3em;box-sizing: border-box;text-align: center;}#sk-a63533b5-0f06-40b1-b46d-4492b48bde2f label.sk-toggleable__label-arrow:before {content: \"▸\";float: left;margin-right: 0.25em;color: #696969;}#sk-a63533b5-0f06-40b1-b46d-4492b48bde2f label.sk-toggleable__label-arrow:hover:before {color: black;}#sk-a63533b5-0f06-40b1-b46d-4492b48bde2f div.sk-estimator:hover label.sk-toggleable__label-arrow:before {color: black;}#sk-a63533b5-0f06-40b1-b46d-4492b48bde2f div.sk-toggleable__content {max-height: 0;max-width: 0;overflow: hidden;text-align: left;background-color: #f0f8ff;}#sk-a63533b5-0f06-40b1-b46d-4492b48bde2f div.sk-toggleable__content pre {margin: 0.2em;color: black;border-radius: 0.25em;background-color: #f0f8ff;}#sk-a63533b5-0f06-40b1-b46d-4492b48bde2f input.sk-toggleable__control:checked~div.sk-toggleable__content {max-height: 200px;max-width: 100%;overflow: auto;}#sk-a63533b5-0f06-40b1-b46d-4492b48bde2f input.sk-toggleable__control:checked~label.sk-toggleable__label-arrow:before {content: \"▾\";}#sk-a63533b5-0f06-40b1-b46d-4492b48bde2f div.sk-estimator input.sk-toggleable__control:checked~label.sk-toggleable__label {background-color: #d4ebff;}#sk-a63533b5-0f06-40b1-b46d-4492b48bde2f div.sk-label input.sk-toggleable__control:checked~label.sk-toggleable__label {background-color: #d4ebff;}#sk-a63533b5-0f06-40b1-b46d-4492b48bde2f input.sk-hidden--visually {border: 0;clip: rect(1px 1px 1px 1px);clip: rect(1px, 1px, 1px, 1px);height: 1px;margin: -1px;overflow: hidden;padding: 0;position: absolute;width: 1px;}#sk-a63533b5-0f06-40b1-b46d-4492b48bde2f div.sk-estimator {font-family: monospace;background-color: #f0f8ff;border: 1px dotted black;border-radius: 0.25em;box-sizing: border-box;margin-bottom: 0.5em;}#sk-a63533b5-0f06-40b1-b46d-4492b48bde2f div.sk-estimator:hover {background-color: #d4ebff;}#sk-a63533b5-0f06-40b1-b46d-4492b48bde2f div.sk-parallel-item::after {content: \"\";width: 100%;border-bottom: 1px solid gray;flex-grow: 1;}#sk-a63533b5-0f06-40b1-b46d-4492b48bde2f div.sk-label:hover label.sk-toggleable__label {background-color: #d4ebff;}#sk-a63533b5-0f06-40b1-b46d-4492b48bde2f div.sk-serial::before {content: \"\";position: absolute;border-left: 1px solid gray;box-sizing: border-box;top: 2em;bottom: 0;left: 50%;}#sk-a63533b5-0f06-40b1-b46d-4492b48bde2f div.sk-serial {display: flex;flex-direction: column;align-items: center;background-color: white;padding-right: 0.2em;padding-left: 0.2em;}#sk-a63533b5-0f06-40b1-b46d-4492b48bde2f div.sk-item {z-index: 1;}#sk-a63533b5-0f06-40b1-b46d-4492b48bde2f div.sk-parallel {display: flex;align-items: stretch;justify-content: center;background-color: white;}#sk-a63533b5-0f06-40b1-b46d-4492b48bde2f div.sk-parallel::before {content: \"\";position: absolute;border-left: 1px solid gray;box-sizing: border-box;top: 2em;bottom: 0;left: 50%;}#sk-a63533b5-0f06-40b1-b46d-4492b48bde2f div.sk-parallel-item {display: flex;flex-direction: column;position: relative;background-color: white;}#sk-a63533b5-0f06-40b1-b46d-4492b48bde2f div.sk-parallel-item:first-child::after {align-self: flex-end;width: 50%;}#sk-a63533b5-0f06-40b1-b46d-4492b48bde2f div.sk-parallel-item:last-child::after {align-self: flex-start;width: 50%;}#sk-a63533b5-0f06-40b1-b46d-4492b48bde2f div.sk-parallel-item:only-child::after {width: 0;}#sk-a63533b5-0f06-40b1-b46d-4492b48bde2f div.sk-dashed-wrapped {border: 1px dashed gray;margin: 0 0.4em 0.5em 0.4em;box-sizing: border-box;padding-bottom: 0.4em;background-color: white;position: relative;}#sk-a63533b5-0f06-40b1-b46d-4492b48bde2f div.sk-label label {font-family: monospace;font-weight: bold;background-color: white;display: inline-block;line-height: 1.2em;}#sk-a63533b5-0f06-40b1-b46d-4492b48bde2f div.sk-label-container {position: relative;z-index: 2;text-align: center;}#sk-a63533b5-0f06-40b1-b46d-4492b48bde2f div.sk-container {/* jupyter's `normalize.less` sets `[hidden] { display: none; }` but bootstrap.min.css set `[hidden] { display: none !important; }` so we also need the `!important` here to be able to override the default hidden behavior on the sphinx rendered scikit-learn.org. See: https://github.com/scikit-learn/scikit-learn/issues/21755 */display: inline-block !important;position: relative;}#sk-a63533b5-0f06-40b1-b46d-4492b48bde2f div.sk-text-repr-fallback {display: none;}</style><div id=\"sk-a63533b5-0f06-40b1-b46d-4492b48bde2f\" class=\"sk-top-container\"><div class=\"sk-text-repr-fallback\"><pre>Pipeline(steps=[(&#x27;columntransformer&#x27;,\n",
       "                 ColumnTransformer(transformers=[(&#x27;categorical&#x27;,\n",
       "                                                  Pipeline(steps=[(&#x27;imputation_consatnt&#x27;,\n",
       "                                                                   SimpleImputer(fill_value=&#x27;missing&#x27;,\n",
       "                                                                                 strategy=&#x27;constant&#x27;)),\n",
       "                                                                  (&#x27;onehot&#x27;,\n",
       "                                                                   OneHotEncoder(handle_unknown=&#x27;ignore&#x27;))]),\n",
       "                                                  [&#x27;gender&#x27;, &#x27;City&#x27;]),\n",
       "                                                 (&#x27;numerical&#x27;,\n",
       "                                                  Pipeline(steps=[(&#x27;imputation_mean&#x27;,\n",
       "                                                                   SimpleImputer()),\n",
       "                                                                  (&#x27;scaler&#x27;,\n",
       "                                                                   StandardScaler())]),\n",
       "                                                  [&#x27;age&#x27;, &#x27;height&#x27;])])),\n",
       "                (&#x27;logisticregression&#x27;, LogisticRegression())])</pre><b>Please rerun this cell to show the HTML repr or trust the notebook.</b></div><div class=\"sk-container\" hidden><div class=\"sk-item sk-dashed-wrapped\"><div class=\"sk-label-container\"><div class=\"sk-label sk-toggleable\"><input class=\"sk-toggleable__control sk-hidden--visually\" id=\"5235d95e-5a26-4a28-aa4e-cc7d94ba2f3e\" type=\"checkbox\" ><label for=\"5235d95e-5a26-4a28-aa4e-cc7d94ba2f3e\" class=\"sk-toggleable__label sk-toggleable__label-arrow\">Pipeline</label><div class=\"sk-toggleable__content\"><pre>Pipeline(steps=[(&#x27;columntransformer&#x27;,\n",
       "                 ColumnTransformer(transformers=[(&#x27;categorical&#x27;,\n",
       "                                                  Pipeline(steps=[(&#x27;imputation_consatnt&#x27;,\n",
       "                                                                   SimpleImputer(fill_value=&#x27;missing&#x27;,\n",
       "                                                                                 strategy=&#x27;constant&#x27;)),\n",
       "                                                                  (&#x27;onehot&#x27;,\n",
       "                                                                   OneHotEncoder(handle_unknown=&#x27;ignore&#x27;))]),\n",
       "                                                  [&#x27;gender&#x27;, &#x27;City&#x27;]),\n",
       "                                                 (&#x27;numerical&#x27;,\n",
       "                                                  Pipeline(steps=[(&#x27;imputation_mean&#x27;,\n",
       "                                                                   SimpleImputer()),\n",
       "                                                                  (&#x27;scaler&#x27;,\n",
       "                                                                   StandardScaler())]),\n",
       "                                                  [&#x27;age&#x27;, &#x27;height&#x27;])])),\n",
       "                (&#x27;logisticregression&#x27;, LogisticRegression())])</pre></div></div></div><div class=\"sk-serial\"><div class=\"sk-item sk-dashed-wrapped\"><div class=\"sk-label-container\"><div class=\"sk-label sk-toggleable\"><input class=\"sk-toggleable__control sk-hidden--visually\" id=\"efcd0ed2-c090-4cc6-8931-4cbe25ca5874\" type=\"checkbox\" ><label for=\"efcd0ed2-c090-4cc6-8931-4cbe25ca5874\" class=\"sk-toggleable__label sk-toggleable__label-arrow\">columntransformer: ColumnTransformer</label><div class=\"sk-toggleable__content\"><pre>ColumnTransformer(transformers=[(&#x27;categorical&#x27;,\n",
       "                                 Pipeline(steps=[(&#x27;imputation_consatnt&#x27;,\n",
       "                                                  SimpleImputer(fill_value=&#x27;missing&#x27;,\n",
       "                                                                strategy=&#x27;constant&#x27;)),\n",
       "                                                 (&#x27;onehot&#x27;,\n",
       "                                                  OneHotEncoder(handle_unknown=&#x27;ignore&#x27;))]),\n",
       "                                 [&#x27;gender&#x27;, &#x27;City&#x27;]),\n",
       "                                (&#x27;numerical&#x27;,\n",
       "                                 Pipeline(steps=[(&#x27;imputation_mean&#x27;,\n",
       "                                                  SimpleImputer()),\n",
       "                                                 (&#x27;scaler&#x27;, StandardScaler())]),\n",
       "                                 [&#x27;age&#x27;, &#x27;height&#x27;])])</pre></div></div></div><div class=\"sk-parallel\"><div class=\"sk-parallel-item\"><div class=\"sk-item\"><div class=\"sk-label-container\"><div class=\"sk-label sk-toggleable\"><input class=\"sk-toggleable__control sk-hidden--visually\" id=\"9b573b37-eab5-4ba5-9e2d-87d27d44f1e2\" type=\"checkbox\" ><label for=\"9b573b37-eab5-4ba5-9e2d-87d27d44f1e2\" class=\"sk-toggleable__label sk-toggleable__label-arrow\">categorical</label><div class=\"sk-toggleable__content\"><pre>[&#x27;gender&#x27;, &#x27;City&#x27;]</pre></div></div></div><div class=\"sk-serial\"><div class=\"sk-item\"><div class=\"sk-serial\"><div class=\"sk-item\"><div class=\"sk-estimator sk-toggleable\"><input class=\"sk-toggleable__control sk-hidden--visually\" id=\"b4746ef8-14a4-4ea4-adc7-21b6bbb8b171\" type=\"checkbox\" ><label for=\"b4746ef8-14a4-4ea4-adc7-21b6bbb8b171\" class=\"sk-toggleable__label sk-toggleable__label-arrow\">SimpleImputer</label><div class=\"sk-toggleable__content\"><pre>SimpleImputer(fill_value=&#x27;missing&#x27;, strategy=&#x27;constant&#x27;)</pre></div></div></div><div class=\"sk-item\"><div class=\"sk-estimator sk-toggleable\"><input class=\"sk-toggleable__control sk-hidden--visually\" id=\"0580e08f-2b2a-4429-9478-813122ce0ee3\" type=\"checkbox\" ><label for=\"0580e08f-2b2a-4429-9478-813122ce0ee3\" class=\"sk-toggleable__label sk-toggleable__label-arrow\">OneHotEncoder</label><div class=\"sk-toggleable__content\"><pre>OneHotEncoder(handle_unknown=&#x27;ignore&#x27;)</pre></div></div></div></div></div></div></div></div><div class=\"sk-parallel-item\"><div class=\"sk-item\"><div class=\"sk-label-container\"><div class=\"sk-label sk-toggleable\"><input class=\"sk-toggleable__control sk-hidden--visually\" id=\"fa5386d1-406f-4f60-842d-32021925abda\" type=\"checkbox\" ><label for=\"fa5386d1-406f-4f60-842d-32021925abda\" class=\"sk-toggleable__label sk-toggleable__label-arrow\">numerical</label><div class=\"sk-toggleable__content\"><pre>[&#x27;age&#x27;, &#x27;height&#x27;]</pre></div></div></div><div class=\"sk-serial\"><div class=\"sk-item\"><div class=\"sk-serial\"><div class=\"sk-item\"><div class=\"sk-estimator sk-toggleable\"><input class=\"sk-toggleable__control sk-hidden--visually\" id=\"f566280d-43bb-425a-8d40-b05638fbe5fd\" type=\"checkbox\" ><label for=\"f566280d-43bb-425a-8d40-b05638fbe5fd\" class=\"sk-toggleable__label sk-toggleable__label-arrow\">SimpleImputer</label><div class=\"sk-toggleable__content\"><pre>SimpleImputer()</pre></div></div></div><div class=\"sk-item\"><div class=\"sk-estimator sk-toggleable\"><input class=\"sk-toggleable__control sk-hidden--visually\" id=\"7d1de53f-c669-4f3d-9665-36acaf6f81b1\" type=\"checkbox\" ><label for=\"7d1de53f-c669-4f3d-9665-36acaf6f81b1\" class=\"sk-toggleable__label sk-toggleable__label-arrow\">StandardScaler</label><div class=\"sk-toggleable__content\"><pre>StandardScaler()</pre></div></div></div></div></div></div></div></div></div></div><div class=\"sk-item\"><div class=\"sk-estimator sk-toggleable\"><input class=\"sk-toggleable__control sk-hidden--visually\" id=\"227b03ac-56f5-4f46-83fa-1087a37ca442\" type=\"checkbox\" ><label for=\"227b03ac-56f5-4f46-83fa-1087a37ca442\" class=\"sk-toggleable__label sk-toggleable__label-arrow\">LogisticRegression</label><div class=\"sk-toggleable__content\"><pre>LogisticRegression()</pre></div></div></div></div></div></div></div>"
      ],
      "text/plain": [
       "Pipeline(steps=[('columntransformer',\n",
       "                 ColumnTransformer(transformers=[('categorical',\n",
       "                                                  Pipeline(steps=[('imputation_consatnt',\n",
       "                                                                   SimpleImputer(fill_value='missing',\n",
       "                                                                                 strategy='constant')),\n",
       "                                                                  ('onehot',\n",
       "                                                                   OneHotEncoder(handle_unknown='ignore'))]),\n",
       "                                                  ['gender', 'City']),\n",
       "                                                 ('numerical',\n",
       "                                                  Pipeline(steps=[('imputation_mean',\n",
       "                                                                   SimpleImputer()),\n",
       "                                                                  ('scaler',\n",
       "                                                                   StandardScaler())]),\n",
       "                                                  ['age', 'height'])])),\n",
       "                ('logisticregression', LogisticRegression())])"
      ]
     },
     "execution_count": 19,
     "metadata": {},
     "output_type": "execute_result"
    }
   ],
   "source": [
    "from sklearn.pipeline import make_pipeline\n",
    "\n",
    "pipe=make_pipeline(preprocessor,LogisticRegression())\n",
    "\n",
    "pipe"
   ]
  },
  {
   "cell_type": "code",
   "execution_count": null,
   "id": "86a8f910",
   "metadata": {},
   "outputs": [],
   "source": [
    "from sklearn.datasets import load_boston\n",
    "from sklearn.model_selection import train_test_split\n",
    "from sklearn.pipeline import Pipeline\n",
    "from sklearn.preprocessing import StandardScaler, PolynomialFeatures\n",
    "from sklearn.linear_model import LinearRegression, Ridge, Lasso\n",
    "from sklearn.svm import SVR\n",
    "from sklearn.metrics import mean_squared_error\n",
    "\n",
    "# Load the dataset\n",
    "data = load_boston()\n",
    "\n",
    "# Split the dataset into training and testing sets\n",
    "X_train, X_test, y_train, y_test = train_test_split(data.data, data.target, test_size=0.2, random_state=42)\n",
    "\n",
    "# Define the preprocessing steps using Pipeline\n",
    "preprocessing_pipeline_1 = Pipeline([\n",
    "    ('scaler', StandardScaler()),\n",
    "    ('polynomial_features', PolynomialFeatures(degree=2, include_bias=False))\n",
    "])\n",
    "\n",
    "preprocessing_pipeline_2 = Pipeline([\n",
    "    ('scaler', StandardScaler())\n",
    "])\n",
    "\n",
    "# Define the machine learning models to use\n",
    "model_1 = LinearRegression()\n",
    "\n",
    "model_2 = Ridge(alpha=0.5)\n",
    "\n",
    "model_3 = Lasso(alpha=0.1)\n",
    "\n",
    "model_4 = SVR(kernel='rbf')\n",
    "\n",
    "# Combine the preprocessing steps and machine learning models using Pipeline\n",
    "pipeline_1 = Pipeline([\n",
    "    ('preprocessing', preprocessing_pipeline_1),\n",
    "    ('model', model_1)\n",
    "])\n",
    "\n",
    "pipeline_2 = Pipeline([\n",
    "    ('preprocessing', preprocessing_pipeline_2),\n",
    "    ('model', model_2)\n",
    "])\n",
    "\n",
    "pipeline_3 = Pipeline([\n",
    "    ('preprocessing', preprocessing_pipeline_2),\n",
    "    ('model', model_3)\n",
    "])\n",
    "\n",
    "pipeline_4 = Pipeline([\n",
    "    ('preprocessing', preprocessing_pipeline_2),\n",
    "    ('model', model_4)\n",
    "])\n",
    "\n",
    "# Train the models on the training data\n",
    "pipeline_1.fit(X_train, y_train)\n",
    "pipeline_2.fit(X_train, y_train)\n",
    "pipeline_3.fit(X_train, y_train)\n",
    "pipeline_4.fit(X_train, y_train)\n",
    "\n",
    "# Evaluate the models on the testing data\n",
    "y_pred_1 = pipeline_1.predict(X_test)\n",
    "mse_1 = mean_squared_error(y_test, y_pred_1)\n",
    "print(\"Linear Regression Mean Squared Error:\", mse_1)\n",
    "\n",
    "y_pred_2 = pipeline_2.predict(X_test)\n",
    "mse_2 = mean_squared_error(y_test, y_pred_2)\n",
    "print(\"Ridge Mean Squared Error:\", mse_2)\n",
    "\n",
    "y_pred_3 = pipeline_3.predict(X_test)\n",
    "mse_3 = mean_squared_error(y_test, y_pred_3)\n",
    "print(\"Lasso Mean Squared Error:\", mse_3)\n",
    "\n",
    "y_pred_4 = pipeline_4.predict(X_test)\n",
    "mse_4 = mean_squared_error(y_test, y_pred_4)\n",
    "print(\"Support Vector Regression Mean Squared Error:\", mse_4)\n"
   ]
  }
 ],
 "metadata": {
  "kernelspec": {
   "display_name": "Python 3 (ipykernel)",
   "language": "python",
   "name": "python3"
  },
  "language_info": {
   "codemirror_mode": {
    "name": "ipython",
    "version": 3
   },
   "file_extension": ".py",
   "mimetype": "text/x-python",
   "name": "python",
   "nbconvert_exporter": "python",
   "pygments_lexer": "ipython3",
   "version": "3.9.12"
  }
 },
 "nbformat": 4,
 "nbformat_minor": 5
}
